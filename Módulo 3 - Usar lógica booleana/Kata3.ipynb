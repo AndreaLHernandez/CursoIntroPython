{
 "cells": [
  {
   "cell_type": "markdown",
   "metadata": {},
   "source": [
    "## Ejercicio: Escribir declaraciones `if`, `else`, y `elif`\n",
    "Para este ejercicio, escribirás una lógica condicional que imprima una advertencia si un asteroide se acerca a la Tierra demasiado rápido. La velocidad del asteroide varía dependiendo de lo cerca que esté del sol, y cualquier velocidad superior a 25 kilómetros por segundo (km/s) merece una advertencia.\n",
    "\n",
    "Un asteroide se acerca, y viaja a una velocidad de 49 km/s."
   ]
  },
  {
   "cell_type": "code",
   "execution_count": 6,
   "metadata": {},
   "outputs": [
    {
     "name": "stdout",
     "output_type": "stream",
     "text": [
      "Un asteriode se acerca a la tierra a una velocidad de 49 km/s\n"
     ]
    }
   ],
   "source": [
    "# Añadir el código necesario para crear una variable que guarde la velocidad del asteroide.\n",
    "# Escribe una expresión de prueba para calcular si necesita una advertencia.\n",
    "# Agregue las instrucciones que se ejecutarán si la expresión de prueba es true o false.\n",
    "\n",
    "velAste = 49\n",
    "\n",
    "if velAste > 25:\n",
    "    print(\"Un asteriode se acerca a la tierra a una velocidad de \" + str(velAste)+\" km/s\")\n",
    "else:\n",
    "    print(\"Sin novedad XD\")"
   ]
  },
  {
   "cell_type": "markdown",
   "metadata": {},
   "source": [
    "Si un asteroide entra en la atmósfera de la Tierra a una velocidad mayor o igual a 20 km/s, a veces produce un rayo de luz que se puede ver desde la Tierra. Escribe la lógica condicional que usa declaraciones `if`, `else`, y `elif` para alertar a las personas de todo el mundo que deben buscar un asteroide en el cielo. ¡Hay uno que se dirige a la tierra ahora a una velocidad de 19 km/s!"
   ]
  },
  {
   "cell_type": "code",
   "execution_count": 4,
   "metadata": {},
   "outputs": [
    {
     "name": "stdout",
     "output_type": "stream",
     "text": [
      " Se acerca un asteroide a la tierra a una velocidad de 19 km/s, pero no sera visible el rayo de luz\n"
     ]
    }
   ],
   "source": [
    "# Agrega el código para crear una variable para un asteroide que viaja a 19 km/s\n",
    "# Escribe varias expresiones de prueba para determinar si puedes ver el rayo de luz desde la tierra\n",
    "# Agrega las instrucciones que se ejecutarán si las expresiones de prueba son True o False\n",
    "\n",
    "velAste = 19\n",
    "\n",
    "if velAste > 20:\n",
    "    print(\" Se acerca un asteroide a la tierra a una velocidad de \" + str(velAste) + \" km/s, por lo que es probable ver un rayo de luz\")\n",
    "    print(\"Busquen el asteroide en el cielo\")\n",
    "elif velAste < 20:\n",
    "    print(\" Se acerca un asteroide a la tierra a una velocidad de \" + str(velAste) + \" km/s, pero no sera visible el rayo de luz\")\n",
    "else:\n",
    "    print(\" Se acerca un asteroide a la tierra a una velocidad de \" + str(velAste) + \" km/s, por lo que es probable ver un rayo de luz\")\n",
    "    print(\"Busquen el asteroide en el cielo\")"
   ]
  },
  {
   "cell_type": "markdown",
   "metadata": {},
   "source": [
    "## Ejercicio: Uso de operadores `and` y `or` \n",
    "En este ejercicio, aprenderás información más matizada sobre cuándo los asteroides representan un peligro para la Tierra, y utilizarás esa información para mejorar nuestro sistema de advertencia. Aquí está la nueva información que necesitas saber:\n",
    "* Los asteroides de menos de 25 metros en su dimensión más grande probablemente se quemarán a medida que entren en la atmósfera de la Tierra.\n",
    "* Si una pieza de un asteroide que es más grande que 25 metros pero más pequeña que 1000 metros golpeara la Tierra, causaría mucho daño.\n",
    "\n",
    "También discutimos en el ejercicio anterior que:\n",
    "\n",
    "* La velocidad del asteroide varía en función de lo cerca que esté del sol, y cualquier velocidad superior a 25 kilómetros por segundo (km/s) merece una advertencia.\n",
    "* Si un asteroide entra en la atmósfera de la Tierra a una velocidad mayor o igual a 20 km/s, a veces produce un rayo de luz que se puede ver desde la Tierra.\n",
    "Escribe un programa que emita la advertencia o información correcta a la gente de la Tierra, según la velocidad y el tamaño de un asteroide. Utiliza instrucciones `if`, `else`, y `elif`, así como los operadores `and` y `or`."
   ]
  },
  {
   "cell_type": "code",
   "execution_count": 17,
   "metadata": {},
   "outputs": [
    {
     "name": "stdout",
     "output_type": "stream",
     "text": [
      "Se acerca un asteroide peligroso ;(\n"
     ]
    }
   ],
   "source": [
    "# Agrega el código para crear nuevas variables para la velocidad y el tamaño del asteroide\n",
    "# Para probar el código, prueba con varias velocidades y tamaños\n",
    "# Escribe varias expresiones de prueba o combinaciones de expresiones de prueba para determinar \n",
    "# qué mensaje se debe enviar a Tierra.\n",
    "\n",
    "vel = 26 #velocidad\n",
    "tam = 26 #tamaño\n",
    "\n",
    "if tam > 25 or vel > 25:\n",
    "    print(\"Se acerca un asteroide peligroso ;(\")\n",
    "\n",
    "elif vel >= 20:\n",
    "    print(\"Busca un asteroide en el cielo\")\n",
    "\n",
    "else:\n",
    "    print(\"Sin novedad XD\")\n",
    "\n",
    "\n"
   ]
  },
  {
   "cell_type": "code",
   "execution_count": 19,
   "metadata": {},
   "outputs": [
    {
     "name": "stdout",
     "output_type": "stream",
     "text": [
      "Busca un asteroide en el cielo\n"
     ]
    }
   ],
   "source": [
    "vel = 25 #velocidad\n",
    "tam = 25 #tamaño\n",
    "\n",
    "if tam > 25 or vel > 25:\n",
    "    print(\"Se acerca un asteroide peligroso ;(\")\n",
    "\n",
    "elif vel >= 20:\n",
    "    print(\"Busca un asteroide en el cielo\")\n",
    "\n",
    "else:\n",
    "    print(\"Sin novedad XD\")"
   ]
  },
  {
   "cell_type": "code",
   "execution_count": 20,
   "metadata": {},
   "outputs": [
    {
     "name": "stdout",
     "output_type": "stream",
     "text": [
      "Sin novedad XD\n"
     ]
    }
   ],
   "source": [
    "vel = 19 #velocidad\n",
    "tam = 23 #tamaño\n",
    "\n",
    "if tam > 25 or vel > 25:\n",
    "    print(\"Se acerca un asteroide peligroso ;(\")\n",
    "\n",
    "elif vel >= 20:\n",
    "    print(\"Busca un asteroide en el cielo\")\n",
    "\n",
    "else:\n",
    "    print(\"Sin novedad XD\")"
   ]
  }
 ],
 "metadata": {
  "interpreter": {
   "hash": "aee8b7b246df8f9039afb4144a1f6fd8d2ca17a180786b69acc140d282b71a49"
  },
  "kernelspec": {
   "display_name": "Python 3.10.2 64-bit",
   "language": "python",
   "name": "python3"
  },
  "language_info": {
   "codemirror_mode": {
    "name": "ipython",
    "version": 3
   },
   "file_extension": ".py",
   "mimetype": "text/x-python",
   "name": "python",
   "nbconvert_exporter": "python",
   "pygments_lexer": "ipython3",
   "version": "3.10.2"
  },
  "orig_nbformat": 4
 },
 "nbformat": 4,
 "nbformat_minor": 2
}
